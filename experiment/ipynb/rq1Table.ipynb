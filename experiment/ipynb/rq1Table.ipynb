{
 "cells": [
  {
   "cell_type": "markdown",
   "metadata": {},
   "source": [
    "## get instances from csv data"
   ]
  },
  {
   "cell_type": "code",
   "execution_count": 1,
   "metadata": {},
   "outputs": [],
   "source": [
    "import pandas as pd\n",
    "\n",
    "def readCSV(file_path):\n",
    "  column_names = ['index', 'eps', \n",
    "                  'abonn_type', 'abonn_time', 'abonn_visit', 'abonn_status', 'abonn_lb', \n",
    "                  'base_type', 'base_time', 'base_visit', 'base_status', 'base_lb', \n",
    "                  'ab_type', 'ab_status', 'ab_time']\n",
    "  df = pd.read_csv(file_path, sep=\",\", header=None, names=column_names)\n",
    "  return df\n",
    "\n",
    "def readCSVconclusive(file_path):\n",
    "  column_names = ['index', 'eps', \n",
    "                  'abonn_type', 'abonn_time', 'abonn_visit', 'abonn_status', 'abonn_lb', \n",
    "                  'base_type', 'base_time', 'base_visit', 'base_status', 'base_lb', \n",
    "                  'ab_type', 'ab_status', 'ab_time']\n",
    "  dataframe = pd.read_csv(file_path, sep=\",\", header=None, names=column_names)\n",
    "  conclusive = dataframe[(dataframe.base_status != 'unknown') | (dataframe.ab_status != 'unknown') | (dataframe.abonn_status != 'unknown')]\n",
    "  return conclusive"
   ]
  },
  {
   "cell_type": "markdown",
   "metadata": {},
   "source": [
    "##  RQ1 table"
   ]
  },
  {
   "cell_type": "markdown",
   "metadata": {},
   "source": [
    "### time average"
   ]
  },
  {
   "cell_type": "code",
   "execution_count": 2,
   "metadata": {},
   "outputs": [],
   "source": [
    "def timeAverage(file_path):\n",
    "  df = readCSVconclusive(file_path)\n",
    "  return round(df.base_time.mean(), 2), round(df.ab_time.mean(), 2), round(df.abonn_time.mean(), 2)"
   ]
  },
  {
   "cell_type": "markdown",
   "metadata": {},
   "source": [
    "## the number of solved instances"
   ]
  },
  {
   "cell_type": "code",
   "execution_count": 3,
   "metadata": {},
   "outputs": [],
   "source": [
    "def solved(file_path):\n",
    "  df = readCSV(file_path)\n",
    "  return df[df.base_status != 'unknown'].shape[0], df[df.ab_status != 'unknown'].shape[0], df[df.abonn_status != 'unknown'].shape[0]"
   ]
  },
  {
   "cell_type": "markdown",
   "metadata": {},
   "source": [
    "### make table data"
   ]
  },
  {
   "cell_type": "code",
   "execution_count": 4,
   "metadata": {},
   "outputs": [],
   "source": [
    "def getRq1Table():\n",
    "  column_list = ['$\\mnist_{{{\\ltwo}}}$ ', \n",
    "                  '$\\mnist_{{{\\lfour}}}$ ', \n",
    "                  '$\\cifar_{{\\\\base}}$ ', \n",
    "                  '$\\cifar_{{\\deep}}$ ', \n",
    "                  '$\\cifar_{{\\wide}}$ ']\n",
    "  files_list = [\n",
    "    'mnistl2',\n",
    "    'mnistl4',\n",
    "    'base',\n",
    "    'deep',\n",
    "    'wide'\n",
    "  ]\n",
    "  for file_name, column in zip(files_list, column_list):\n",
    "    file_path = f'../csv/{file_name}.csv'\n",
    "    base_time, ab_time, abonn_time = timeAverage(file_path)\n",
    "    base_solved, ab_solved, abonn_solved = solved(file_path)\n",
    "    print(f'{column}& {base_solved}& {base_time}& {ab_solved}& {ab_time}& {abonn_solved}& {abonn_time} \\\\\\\\')"
   ]
  },
  {
   "cell_type": "code",
   "execution_count": 5,
   "metadata": {},
   "outputs": [
    {
     "name": "stdout",
     "output_type": "stream",
     "text": [
      "$\\mnist_{{{\\ltwo}}}$ & 95& 245.11& 96& 19.53& 92& 248.29 \\\\\n",
      "$\\mnist_{{{\\lfour}}}$ & 59& 200.68& 43& 360.97& 57& 270.48 \\\\\n",
      "$\\cifar_{{\\base}}$ & 27& 782.31& 32& 699.77& 106& 176.87 \\\\\n",
      "$\\cifar_{{\\deep}}$ & 23& 749.74& 40& 516.25& 67& 369.58 \\\\\n",
      "$\\cifar_{{\\wide}}$ & 26& 706.04& 38& 520.3& 75& 246.03 \\\\\n"
     ]
    }
   ],
   "source": [
    "getRq1Table()"
   ]
  }
 ],
 "metadata": {
  "kernelspec": {
   "display_name": "BaBV_",
   "language": "python",
   "name": "python3"
  },
  "language_info": {
   "codemirror_mode": {
    "name": "ipython",
    "version": 3
   },
   "file_extension": ".py",
   "mimetype": "text/x-python",
   "name": "python",
   "nbconvert_exporter": "python",
   "pygments_lexer": "ipython3",
   "version": "3.8.19"
  }
 },
 "nbformat": 4,
 "nbformat_minor": 2
}
